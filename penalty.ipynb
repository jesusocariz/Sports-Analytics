{
 "cells": [
  {
   "cell_type": "markdown",
   "metadata": {},
   "source": [
    "# <b> Analysis </b>\n",
    "### by Dr. Jesus Ocariz\n",
    "\n",
    "We try to answer 3 questions regarding historical football penalty data.\n"
   ]
  },
  {
   "cell_type": "code",
   "execution_count": 1,
   "metadata": {},
   "outputs": [],
   "source": [
    "#%pip install pingouin #If you need to install any package\n",
    "import pandas as pd\n",
    "import numpy as np\n",
    "import scipy\n",
    "import matplotlib.pyplot as plt\n",
    "from scipy import stats\n",
    "from scipy.stats import geom\n",
    "from datetime import datetime\n",
    "import warnings\n",
    "import pingouin as pg\n",
    "import math\n",
    "\n",
    "warnings.filterwarnings('ignore')"
   ]
  },
  {
   "cell_type": "code",
   "execution_count": 2,
   "metadata": {},
   "outputs": [],
   "source": [
    "df = pd.read_csv('penalty_dataset_anonymous.csv')\n",
    "\n",
    "# Better to deal with numerical variables (save memory, faster times for comparison...)\n",
    "rep_gender ={'men': 0, 'women': 1}\n",
    "rep_goal = {'PG': 1, 'PSG': 1, 'PM': 0, 'PSM': 0}\n",
    "df['gender']= df['gender'].replace(rep_gender)\n",
    "df['goal']= df['event_type'].replace(rep_goal)"
   ]
  },
  {
   "cell_type": "markdown",
   "metadata": {},
   "source": [
    "### Q1. Is there a difference in penalty conversion rates between men and women?"
   ]
  },
  {
   "cell_type": "code",
   "execution_count": 3,
   "metadata": {},
   "outputs": [
    {
     "name": "stdout",
     "output_type": "stream",
     "text": [
      "We have 13229 male penalties in the data and 1864 female\n"
     ]
    }
   ],
   "source": [
    "df_m = df[df['gender']== 0]\n",
    "df_f = df[df['gender']== 1]\n",
    "n_m = len(df_m['gender'])\n",
    "n_f = len(df_f['gender'])\n",
    "\n",
    "\n",
    "print('We have '+ str(n_m) + ' male penalties in the data and '+ str(n_f)+' female')\n"
   ]
  },
  {
   "cell_type": "code",
   "execution_count": 4,
   "metadata": {},
   "outputs": [
    {
     "name": "stdout",
     "output_type": "stream",
     "text": [
      "Male accuracy is 0.7971879960692418 and the female one is 0.8283261802575107\n"
     ]
    }
   ],
   "source": [
    "g_m = len(df_m['gender'][df_m['goal']==1])\n",
    "g_f = len(df_f['gender'][df_f['goal']==1])\n",
    "\n",
    "acc_m = g_m/ n_m\n",
    "acc_f = g_f/ n_f\n",
    "print('Male accuracy is ' +str(acc_m) + ' and the female one is ' + str(acc_f))"
   ]
  },
  {
   "cell_type": "markdown",
   "metadata": {},
   "source": [
    "The sizes of our two poblations are not comparable. So, the better way to understand if there is a difference is through a statistical analysis (using pingouin or scipy)"
   ]
  },
  {
   "cell_type": "code",
   "execution_count": 5,
   "metadata": {},
   "outputs": [
    {
     "data": {
      "text/html": [
       "<div>\n",
       "<style scoped>\n",
       "    .dataframe tbody tr th:only-of-type {\n",
       "        vertical-align: middle;\n",
       "    }\n",
       "\n",
       "    .dataframe tbody tr th {\n",
       "        vertical-align: top;\n",
       "    }\n",
       "\n",
       "    .dataframe thead th {\n",
       "        text-align: right;\n",
       "    }\n",
       "</style>\n",
       "<table border=\"1\" class=\"dataframe\">\n",
       "  <thead>\n",
       "    <tr style=\"text-align: right;\">\n",
       "      <th></th>\n",
       "      <th>T</th>\n",
       "      <th>dof</th>\n",
       "      <th>alternative</th>\n",
       "      <th>p-val</th>\n",
       "      <th>CI95%</th>\n",
       "      <th>cohen-d</th>\n",
       "      <th>BF10</th>\n",
       "      <th>power</th>\n",
       "    </tr>\n",
       "  </thead>\n",
       "  <tbody>\n",
       "    <tr>\n",
       "      <th>T-test</th>\n",
       "      <td>-3.308979</td>\n",
       "      <td>2498.384391</td>\n",
       "      <td>two-sided</td>\n",
       "      <td>0.00095</td>\n",
       "      <td>[-0.05, -0.01]</td>\n",
       "      <td>0.078018</td>\n",
       "      <td>6.555</td>\n",
       "      <td>0.883628</td>\n",
       "    </tr>\n",
       "  </tbody>\n",
       "</table>\n",
       "</div>"
      ],
      "text/plain": [
       "               T          dof alternative    p-val           CI95%   cohen-d  \\\n",
       "T-test -3.308979  2498.384391   two-sided  0.00095  [-0.05, -0.01]  0.078018   \n",
       "\n",
       "         BF10     power  \n",
       "T-test  6.555  0.883628  "
      ]
     },
     "execution_count": 5,
     "metadata": {},
     "output_type": "execute_result"
    }
   ],
   "source": [
    "#Using pinguoin\n",
    "sample_f = df_f['goal']\n",
    "sample_m = df_m['goal']\n",
    "\n",
    "pg.ttest(x=sample_m, y=sample_f, alternative='two-sided', correction=True)"
   ]
  },
  {
   "cell_type": "markdown",
   "metadata": {},
   "source": [
    "We calculate the T-test of the samples of goals. The null hypothesis is that these two samples have identical average (expected) values (in this case the average is the accuracy for conversion).\n",
    "\n",
    "https://docs.scipy.org/doc/scipy/reference/generated/scipy.stats.ttest_ind.html"
   ]
  },
  {
   "cell_type": "code",
   "execution_count": 6,
   "metadata": {},
   "outputs": [
    {
     "name": "stdout",
     "output_type": "stream",
     "text": [
      "We reject the null hypothesis: There is a difference between the samples\n",
      "We reject the null hypothesis: The conversion of the female is greater than the male one\n"
     ]
    }
   ],
   "source": [
    "sample_f = df_f['goal']\n",
    "sample_m = df_m['goal']\n",
    "t_stat, p_value = stats.ttest_ind(sample_f, sample_m, equal_var= False)\n",
    "\n",
    "alpha = 0.01\n",
    "if p_value < alpha:\n",
    "    print('We reject the null hypothesis: There is a difference between the samples')\n",
    "else:\n",
    "    print(\"We do not reject: The two samples are not significantly different\")\n",
    "t_stat, p_value = stats.ttest_ind(sample_f, sample_m, equal_var= False, alternative='greater')\n",
    "if p_value < alpha:\n",
    "    print('We reject the null hypothesis: The conversion of the female is greater than the male one')\n",
    "else:\n",
    "    print(\"We do not reject: The two samples are not significantly different\")"
   ]
  },
  {
   "cell_type": "markdown",
   "metadata": {},
   "source": [
    "We <b> can </b> conclude that there is a <b> difference </b> in the conversion rate between male and female players. More precisely, women have a better conversion rate."
   ]
  },
  {
   "cell_type": "markdown",
   "metadata": {},
   "source": [
    "### Q2. Who are the best five penalty takers in the dataset?\n",
    "\n",
    "Since we have shown that there is a difference between male and female players. We are going to give the best 5 penalty takers in each category.\n",
    "\n",
    "There are several ways to answer this question. It depends on how we define the concept \"best\". On the one hand, we could try to consider who are the best at the moment or from a historical point of view. We could also try to weigh the importance of the penalty by their importance (it is not the same pressure to goal a penalty when you are 3 goals ahead that the one in the last minute to win the match or at shoouts).\n",
    "\n",
    "We can create several features regarding the streak of annotation. We can also show only active penalty players from retired ones (we make the assumption that people who have not shooted a penalty from some date are retired. Ofc, this could be improved). And there are other several interesting features we could further analyze: the performance under different scenarios (shootout, is the team winning...). It may be interesting add further variables such as temperature, visibility conditions, weather conditions. \n",
    "\n",
    "Another interesting question could be to study the effect of playing away for the accuracy penalty shooting.\n",
    "\n",
    "To continue with a higher level of complexity and more precission. It could be important to take into account the goalkeeper in the penalties. First, to evaluate and measure their abilities to save penalties goals. This would change the difficulty of scoring one penalty or another depending on the goalkeeper. To do so, we would need if the missed penalties are fault of the shooter (the ball not going inside) or merit of the goalkeeper (intercepting the ball). We could consider this as a zero-sum game between the shooting player and the goalkeeper.\n",
    "\n",
    "An extra level would be to study the velocity of the shoot and relative trajectory with the football goal. This would be impactful to compute probabilities of scoring, understanding shooters and goalkeepers behaviours to maximize the performance at penalties.  "
   ]
  },
  {
   "cell_type": "code",
   "execution_count": 7,
   "metadata": {},
   "outputs": [],
   "source": [
    "def get_streak(l):\n",
    "    # l is a list of 0 and 1\n",
    "    # We return a vector of the consecutive goals scored\n",
    "    sol=[]\n",
    "    cont = 0\n",
    "    for i in range(len(l)):\n",
    "        if l[i]==0:\n",
    "            sol.append(cont) # We add the number of consecutive goals (possibly 0)\n",
    "            if cont !=0:\n",
    "                sol.append(0) # We update the cont and show that the streak has ended\n",
    "                cont = 0\n",
    "        else:\n",
    "            cont +=1\n",
    "    sol.append(cont) #We add the last element of the current streak\n",
    "    return sol\n",
    "        \n",
    "\n",
    "def get_top_scorer(df, n, param1: str='accuracy', param2: str='number_goals'):\n",
    "    # df is the dataframe\n",
    "    # n is the number of top scorers\n",
    "\n",
    "    allowed_values = ['accuracy', 'miss_np_accuracy', 'current_streak', 'max_streak', 'number_goals', 'active']\n",
    "    if param1 not in allowed_values:\n",
    "        raise ValueError(f\"Invalid value for 'param'.\")\n",
    "    if param2 not in allowed_values:\n",
    "        raise ValueError(f\"Invalid value for 'param'.\")\n",
    "\n",
    "    l_players = df['player_id'].unique()\n",
    "    dict_players=[]\n",
    "    for player in l_players:\n",
    "        aux = df[df['player_id'] == player]\n",
    "        n_p = len(aux['player_id'])\n",
    "        n_g = len(aux['player_id'][aux['goal']==1])\n",
    "        name = aux['player_id'].unique()\n",
    "        if len(name) == 1:\n",
    "            name = name[0]\n",
    "        else:\n",
    "            print(\"Need to standarize the variable 'player' in the original dataset \")\n",
    "        acc = n_g/n_p\n",
    "        h_acc = n_g / (n_p+1)\n",
    "\n",
    "\n",
    "        aux['date'] = pd.to_datetime(aux['match_date'])\n",
    "        aux = aux.sort_values(by=['date', 'half', 'time'], ascending= [False, False, False])\n",
    "        date_last_penalty = aux['date'].tolist()[-1]\n",
    "        if date_last_penalty > datetime(2018,1,1):\n",
    "            active = 1\n",
    "        else:\n",
    "            active = 0\n",
    "            \n",
    "        streak = get_streak(aux['goal'].tolist())\n",
    "        c_streak = streak[-1]\n",
    "        m_streak = max(streak)\n",
    "\n",
    "\n",
    "        dict_players.append({'player': player, 'accuracy': acc, 'number_penalties':n_p, 'number_goals': n_g, 'miss_np_accuracy': h_acc, \n",
    "                             'streak': streak, 'current_streak': c_streak, 'max_streak': m_streak, 'name': name, 'active': active})\n",
    "\n",
    "\n",
    "    top_scorer= sorted(dict_players, key=lambda x: (x[param1], x[param2], x['number_penalties']), reverse=True)\n",
    "    return top_scorer[:n]"
   ]
  },
  {
   "cell_type": "code",
   "execution_count": 8,
   "metadata": {},
   "outputs": [
    {
     "data": {
      "text/html": [
       "<div>\n",
       "<style scoped>\n",
       "    .dataframe tbody tr th:only-of-type {\n",
       "        vertical-align: middle;\n",
       "    }\n",
       "\n",
       "    .dataframe tbody tr th {\n",
       "        vertical-align: top;\n",
       "    }\n",
       "\n",
       "    .dataframe thead th {\n",
       "        text-align: right;\n",
       "    }\n",
       "</style>\n",
       "<table border=\"1\" class=\"dataframe\">\n",
       "  <thead>\n",
       "    <tr style=\"text-align: right;\">\n",
       "      <th></th>\n",
       "      <th>gender</th>\n",
       "      <th>competition_id</th>\n",
       "      <th>match_date</th>\n",
       "      <th>match_id</th>\n",
       "      <th>home_team_id</th>\n",
       "      <th>away_team_id</th>\n",
       "      <th>home_score</th>\n",
       "      <th>away_score</th>\n",
       "      <th>player_id</th>\n",
       "      <th>team_id</th>\n",
       "      <th>half</th>\n",
       "      <th>time</th>\n",
       "      <th>event_type</th>\n",
       "      <th>shootout_order</th>\n",
       "      <th>goal</th>\n",
       "    </tr>\n",
       "  </thead>\n",
       "  <tbody>\n",
       "    <tr>\n",
       "      <th>0</th>\n",
       "      <td>0</td>\n",
       "      <td>18</td>\n",
       "      <td>2000-06-11</td>\n",
       "      <td>631</td>\n",
       "      <td>785</td>\n",
       "      <td>272</td>\n",
       "      <td>0</td>\n",
       "      <td>0</td>\n",
       "      <td>512</td>\n",
       "      <td>785</td>\n",
       "      <td>2</td>\n",
       "      <td>89</td>\n",
       "      <td>PG</td>\n",
       "      <td>NaN</td>\n",
       "      <td>1</td>\n",
       "    </tr>\n",
       "    <tr>\n",
       "      <th>1</th>\n",
       "      <td>0</td>\n",
       "      <td>18</td>\n",
       "      <td>2000-06-11</td>\n",
       "      <td>9201</td>\n",
       "      <td>713</td>\n",
       "      <td>951</td>\n",
       "      <td>1</td>\n",
       "      <td>1</td>\n",
       "      <td>3933</td>\n",
       "      <td>951</td>\n",
       "      <td>2</td>\n",
       "      <td>70</td>\n",
       "      <td>PG</td>\n",
       "      <td>NaN</td>\n",
       "      <td>1</td>\n",
       "    </tr>\n",
       "    <tr>\n",
       "      <th>2</th>\n",
       "      <td>0</td>\n",
       "      <td>18</td>\n",
       "      <td>2000-06-16</td>\n",
       "      <td>5562</td>\n",
       "      <td>272</td>\n",
       "      <td>167</td>\n",
       "      <td>0</td>\n",
       "      <td>1</td>\n",
       "      <td>3516</td>\n",
       "      <td>272</td>\n",
       "      <td>1</td>\n",
       "      <td>35</td>\n",
       "      <td>PG</td>\n",
       "      <td>NaN</td>\n",
       "      <td>1</td>\n",
       "    </tr>\n",
       "    <tr>\n",
       "      <th>3</th>\n",
       "      <td>0</td>\n",
       "      <td>18</td>\n",
       "      <td>2000-06-20</td>\n",
       "      <td>9772</td>\n",
       "      <td>169</td>\n",
       "      <td>340</td>\n",
       "      <td>0</td>\n",
       "      <td>1</td>\n",
       "      <td>62</td>\n",
       "      <td>169</td>\n",
       "      <td>1</td>\n",
       "      <td>41</td>\n",
       "      <td>PG</td>\n",
       "      <td>NaN</td>\n",
       "      <td>1</td>\n",
       "    </tr>\n",
       "    <tr>\n",
       "      <th>4</th>\n",
       "      <td>0</td>\n",
       "      <td>18</td>\n",
       "      <td>2000-06-20</td>\n",
       "      <td>9772</td>\n",
       "      <td>169</td>\n",
       "      <td>340</td>\n",
       "      <td>2</td>\n",
       "      <td>2</td>\n",
       "      <td>3614</td>\n",
       "      <td>340</td>\n",
       "      <td>2</td>\n",
       "      <td>89</td>\n",
       "      <td>PG</td>\n",
       "      <td>NaN</td>\n",
       "      <td>1</td>\n",
       "    </tr>\n",
       "    <tr>\n",
       "      <th>...</th>\n",
       "      <td>...</td>\n",
       "      <td>...</td>\n",
       "      <td>...</td>\n",
       "      <td>...</td>\n",
       "      <td>...</td>\n",
       "      <td>...</td>\n",
       "      <td>...</td>\n",
       "      <td>...</td>\n",
       "      <td>...</td>\n",
       "      <td>...</td>\n",
       "      <td>...</td>\n",
       "      <td>...</td>\n",
       "      <td>...</td>\n",
       "      <td>...</td>\n",
       "      <td>...</td>\n",
       "    </tr>\n",
       "    <tr>\n",
       "      <th>15088</th>\n",
       "      <td>0</td>\n",
       "      <td>14</td>\n",
       "      <td>2022-12-06</td>\n",
       "      <td>770</td>\n",
       "      <td>697</td>\n",
       "      <td>599</td>\n",
       "      <td>0</td>\n",
       "      <td>0</td>\n",
       "      <td>4192</td>\n",
       "      <td>697</td>\n",
       "      <td>5</td>\n",
       "      <td>122</td>\n",
       "      <td>PSG</td>\n",
       "      <td>3.0</td>\n",
       "      <td>1</td>\n",
       "    </tr>\n",
       "    <tr>\n",
       "      <th>15089</th>\n",
       "      <td>0</td>\n",
       "      <td>14</td>\n",
       "      <td>2022-12-06</td>\n",
       "      <td>770</td>\n",
       "      <td>697</td>\n",
       "      <td>599</td>\n",
       "      <td>0</td>\n",
       "      <td>0</td>\n",
       "      <td>2423</td>\n",
       "      <td>599</td>\n",
       "      <td>5</td>\n",
       "      <td>123</td>\n",
       "      <td>PSM</td>\n",
       "      <td>4.0</td>\n",
       "      <td>0</td>\n",
       "    </tr>\n",
       "    <tr>\n",
       "      <th>15090</th>\n",
       "      <td>0</td>\n",
       "      <td>14</td>\n",
       "      <td>2022-12-06</td>\n",
       "      <td>770</td>\n",
       "      <td>697</td>\n",
       "      <td>599</td>\n",
       "      <td>0</td>\n",
       "      <td>0</td>\n",
       "      <td>1951</td>\n",
       "      <td>697</td>\n",
       "      <td>5</td>\n",
       "      <td>124</td>\n",
       "      <td>PSM</td>\n",
       "      <td>5.0</td>\n",
       "      <td>0</td>\n",
       "    </tr>\n",
       "    <tr>\n",
       "      <th>15091</th>\n",
       "      <td>0</td>\n",
       "      <td>14</td>\n",
       "      <td>2022-12-06</td>\n",
       "      <td>770</td>\n",
       "      <td>697</td>\n",
       "      <td>599</td>\n",
       "      <td>0</td>\n",
       "      <td>0</td>\n",
       "      <td>151</td>\n",
       "      <td>599</td>\n",
       "      <td>5</td>\n",
       "      <td>125</td>\n",
       "      <td>PSM</td>\n",
       "      <td>6.0</td>\n",
       "      <td>0</td>\n",
       "    </tr>\n",
       "    <tr>\n",
       "      <th>15092</th>\n",
       "      <td>0</td>\n",
       "      <td>14</td>\n",
       "      <td>2022-12-06</td>\n",
       "      <td>770</td>\n",
       "      <td>697</td>\n",
       "      <td>599</td>\n",
       "      <td>0</td>\n",
       "      <td>0</td>\n",
       "      <td>1299</td>\n",
       "      <td>697</td>\n",
       "      <td>5</td>\n",
       "      <td>126</td>\n",
       "      <td>PSG</td>\n",
       "      <td>7.0</td>\n",
       "      <td>1</td>\n",
       "    </tr>\n",
       "  </tbody>\n",
       "</table>\n",
       "<p>15093 rows × 15 columns</p>\n",
       "</div>"
      ],
      "text/plain": [
       "       gender  competition_id  match_date  match_id  home_team_id  \\\n",
       "0           0              18  2000-06-11       631           785   \n",
       "1           0              18  2000-06-11      9201           713   \n",
       "2           0              18  2000-06-16      5562           272   \n",
       "3           0              18  2000-06-20      9772           169   \n",
       "4           0              18  2000-06-20      9772           169   \n",
       "...       ...             ...         ...       ...           ...   \n",
       "15088       0              14  2022-12-06       770           697   \n",
       "15089       0              14  2022-12-06       770           697   \n",
       "15090       0              14  2022-12-06       770           697   \n",
       "15091       0              14  2022-12-06       770           697   \n",
       "15092       0              14  2022-12-06       770           697   \n",
       "\n",
       "       away_team_id  home_score  away_score  player_id  team_id  half  time  \\\n",
       "0               272           0           0        512      785     2    89   \n",
       "1               951           1           1       3933      951     2    70   \n",
       "2               167           0           1       3516      272     1    35   \n",
       "3               340           0           1         62      169     1    41   \n",
       "4               340           2           2       3614      340     2    89   \n",
       "...             ...         ...         ...        ...      ...   ...   ...   \n",
       "15088           599           0           0       4192      697     5   122   \n",
       "15089           599           0           0       2423      599     5   123   \n",
       "15090           599           0           0       1951      697     5   124   \n",
       "15091           599           0           0        151      599     5   125   \n",
       "15092           599           0           0       1299      697     5   126   \n",
       "\n",
       "      event_type  shootout_order  goal  \n",
       "0             PG             NaN     1  \n",
       "1             PG             NaN     1  \n",
       "2             PG             NaN     1  \n",
       "3             PG             NaN     1  \n",
       "4             PG             NaN     1  \n",
       "...          ...             ...   ...  \n",
       "15088        PSG             3.0     1  \n",
       "15089        PSM             4.0     0  \n",
       "15090        PSM             5.0     0  \n",
       "15091        PSM             6.0     0  \n",
       "15092        PSG             7.0     1  \n",
       "\n",
       "[15093 rows x 15 columns]"
      ]
     },
     "execution_count": 8,
     "metadata": {},
     "output_type": "execute_result"
    }
   ],
   "source": [
    "df"
   ]
  },
  {
   "cell_type": "code",
   "execution_count": 9,
   "metadata": {},
   "outputs": [
    {
     "data": {
      "text/plain": [
       "[62, 2476, 2601, 693, 4415]"
      ]
     },
     "execution_count": 9,
     "metadata": {},
     "output_type": "execute_result"
    }
   ],
   "source": [
    "top = get_top_scorer(df_m, 5)\n",
    "[d['player'] for d in top]"
   ]
  },
  {
   "cell_type": "code",
   "execution_count": 10,
   "metadata": {},
   "outputs": [
    {
     "data": {
      "text/plain": [
       "[62, 2476, 2601, 766, 693]"
      ]
     },
     "execution_count": 10,
     "metadata": {},
     "output_type": "execute_result"
    }
   ],
   "source": [
    "top= get_top_scorer(df_m, 5, param1='miss_np_accuracy')\n",
    "[d['name'] for d in top]"
   ]
  },
  {
   "cell_type": "code",
   "execution_count": 11,
   "metadata": {},
   "outputs": [
    {
     "data": {
      "text/plain": [
       "[1643, 3508, 707, 2807, 1703]"
      ]
     },
     "execution_count": 11,
     "metadata": {},
     "output_type": "execute_result"
    }
   ],
   "source": [
    "top= get_top_scorer(df_m, 5, param1='current_streak')\n",
    "[d['name'] for d in top]"
   ]
  },
  {
   "cell_type": "code",
   "execution_count": 12,
   "metadata": {},
   "outputs": [
    {
     "data": {
      "text/plain": [
       "[2310, 2473, 1866, 2758, 4210]"
      ]
     },
     "execution_count": 12,
     "metadata": {},
     "output_type": "execute_result"
    }
   ],
   "source": [
    "top= get_top_scorer(df_m, 5, param1='max_streak')\n",
    "[d['name'] for d in top]"
   ]
  },
  {
   "cell_type": "code",
   "execution_count": 13,
   "metadata": {},
   "outputs": [
    {
     "data": {
      "text/plain": [
       "[3841, 1420, 909, 2198, 1916]"
      ]
     },
     "execution_count": 13,
     "metadata": {},
     "output_type": "execute_result"
    }
   ],
   "source": [
    "top= get_top_scorer(df_f, 5, param1='max_streak')\n",
    "[d['name'] for d in top]"
   ]
  },
  {
   "cell_type": "code",
   "execution_count": 14,
   "metadata": {},
   "outputs": [
    {
     "data": {
      "text/plain": [
       "[2310, 2012, 1866, 2473, 2758]"
      ]
     },
     "execution_count": 14,
     "metadata": {},
     "output_type": "execute_result"
    }
   ],
   "source": [
    "top= get_top_scorer(df_m, 5, param1='number_goals')\n",
    "[d['name'] for d in top]"
   ]
  },
  {
   "cell_type": "code",
   "execution_count": 15,
   "metadata": {},
   "outputs": [
    {
     "data": {
      "text/plain": [
       "[1, 500, 2423, 599, 2476]"
      ]
     },
     "execution_count": 15,
     "metadata": {},
     "output_type": "execute_result"
    }
   ],
   "source": [
    "top= get_top_scorer(df_m, 5, param1='active', param2='number_goals')\n",
    "[d['name'] for d in top]"
   ]
  },
  {
   "cell_type": "code",
   "execution_count": 16,
   "metadata": {},
   "outputs": [
    {
     "data": {
      "text/plain": [
       "[2476, 1218, 1619, 3123, 1200]"
      ]
     },
     "execution_count": 16,
     "metadata": {},
     "output_type": "execute_result"
    }
   ],
   "source": [
    "top= get_top_scorer(df_m, 5, param1='active', param2='accuracy')\n",
    "[d['name'] for d in top]"
   ]
  },
  {
   "cell_type": "code",
   "execution_count": 17,
   "metadata": {},
   "outputs": [
    {
     "data": {
      "text/plain": [
       "[2476, 1, 2031, 3907, 929]"
      ]
     },
     "execution_count": 17,
     "metadata": {},
     "output_type": "execute_result"
    }
   ],
   "source": [
    "top= get_top_scorer(df_m, 5, param1='active', param2='current_streak')\n",
    "[d['name'] for d in top]"
   ]
  },
  {
   "cell_type": "code",
   "execution_count": 18,
   "metadata": {},
   "outputs": [
    {
     "data": {
      "text/plain": [
       "[2476, 1, 615, 2031, 968]"
      ]
     },
     "execution_count": 18,
     "metadata": {},
     "output_type": "execute_result"
    }
   ],
   "source": [
    "top= get_top_scorer(df_m, 5, param1='active', param2='max_streak')\n",
    "[d['name'] for d in top]"
   ]
  },
  {
   "cell_type": "code",
   "execution_count": 19,
   "metadata": {},
   "outputs": [
    {
     "data": {
      "text/plain": [
       "[1420, 4311, 2962, 2613, 1956]"
      ]
     },
     "execution_count": 19,
     "metadata": {},
     "output_type": "execute_result"
    }
   ],
   "source": [
    "top = get_top_scorer(df_f, 5)\n",
    "[d['name'] for d in top]"
   ]
  },
  {
   "cell_type": "code",
   "execution_count": 20,
   "metadata": {},
   "outputs": [
    {
     "data": {
      "text/plain": [
       "[1420, 4311, 2962, 2613, 1956]"
      ]
     },
     "execution_count": 20,
     "metadata": {},
     "output_type": "execute_result"
    }
   ],
   "source": [
    "top= get_top_scorer(df_f, 5, param1='miss_np_accuracy')\n",
    "[d['name'] for d in top]"
   ]
  },
  {
   "cell_type": "code",
   "execution_count": 21,
   "metadata": {},
   "outputs": [
    {
     "data": {
      "text/plain": [
       "[3841, 1420, 909, 2198, 1916]"
      ]
     },
     "execution_count": 21,
     "metadata": {},
     "output_type": "execute_result"
    }
   ],
   "source": [
    "top= get_top_scorer(df_f, 5, param1='current_streak')\n",
    "[d['name'] for d in top]"
   ]
  },
  {
   "cell_type": "code",
   "execution_count": 22,
   "metadata": {},
   "outputs": [
    {
     "data": {
      "text/plain": [
       "[3841, 1420, 909, 2198, 1916]"
      ]
     },
     "execution_count": 22,
     "metadata": {},
     "output_type": "execute_result"
    }
   ],
   "source": [
    "top= get_top_scorer(df_f, 5, param1='max_streak')\n",
    "[d['name'] for d in top]"
   ]
  },
  {
   "cell_type": "code",
   "execution_count": 23,
   "metadata": {},
   "outputs": [
    {
     "data": {
      "text/plain": [
       "[1067, 3841, 701, 2198, 1978]"
      ]
     },
     "execution_count": 23,
     "metadata": {},
     "output_type": "execute_result"
    }
   ],
   "source": [
    "top= get_top_scorer(df_f, 5, param1='number_goals')\n",
    "[d['name'] for d in top]"
   ]
  },
  {
   "cell_type": "markdown",
   "metadata": {},
   "source": [
    "### Q3. Analysis to help a team decide the order of their first 5 penalty takers in a shootout\n",
    "\n",
    "We are going to focus on male teams because we have more data (and thus we can provide better insights). Let us study for example the national team of Argentina (team_id=638)."
   ]
  },
  {
   "cell_type": "code",
   "execution_count": 24,
   "metadata": {},
   "outputs": [
    {
     "data": {
      "text/plain": [
       "team_id\n",
       "714    35\n",
       "638    35\n",
       "630    35\n",
       "599    31\n",
       "72     30\n",
       "       ..\n",
       "912     3\n",
       "90      3\n",
       "825     3\n",
       "668     3\n",
       "590     3\n",
       "Name: count, Length: 141, dtype: int64"
      ]
     },
     "execution_count": 24,
     "metadata": {},
     "output_type": "execute_result"
    }
   ],
   "source": [
    "df2 =df_m[df_m['half']==5]\n",
    "\n",
    "df2['team_id'].value_counts()"
   ]
  },
  {
   "cell_type": "code",
   "execution_count": 25,
   "metadata": {},
   "outputs": [
    {
     "name": "stdout",
     "output_type": "stream",
     "text": [
      "35\n",
      "11\n",
      "Argentina games: Shootut accuracy is 0.6571428571428571 and the normal one is 0.8181818181818182\n"
     ]
    }
   ],
   "source": [
    "df2_arg= df2[df2['team_id']==638]\n",
    "df_arg = df.loc[(df['team_id']==638) & (df['half']!= 5)]\n",
    "\n",
    "\n",
    "n_shootout = len(df2_arg)\n",
    "print(n_shootout)\n",
    "n_normal = len(df_arg)\n",
    "print(n_normal)\n",
    "\n",
    "g_shootout = len(df2_arg['gender'][df2_arg['goal']==1])\n",
    "g_normal = len(df_arg['gender'][df_arg['goal']==1])\n",
    "acc_s = g_shootout/ n_shootout\n",
    "acc_n = g_normal/ n_normal\n",
    "print('Argentina games: Shootut accuracy is ' +str(acc_s) + ' and the normal one is ' + str(acc_n))\n"
   ]
  },
  {
   "cell_type": "markdown",
   "metadata": {},
   "source": [
    "We can see that there is an importance difference between the conversion rate for penalties Argentina matches."
   ]
  },
  {
   "cell_type": "code",
   "execution_count": 26,
   "metadata": {},
   "outputs": [
    {
     "name": "stdout",
     "output_type": "stream",
     "text": [
      "0.2853280039756311\n",
      "We do not reject: The two samples are not significantly different\n"
     ]
    }
   ],
   "source": [
    "sample_1 = df2_arg['goal']\n",
    "sample_2 = df_arg['goal']\n",
    "t_stat, p_value = stats.ttest_ind(sample_1, sample_2, equal_var= False)\n",
    "\n",
    "print(p_value)\n",
    "alpha = 0.05\n",
    "if p_value < alpha:\n",
    "    print('We reject the null hypothesis: There is a difference between the samples')\n",
    "else:\n",
    "    print(\"We do not reject: The two samples are not significantly different\")"
   ]
  },
  {
   "cell_type": "markdown",
   "metadata": {},
   "source": [
    "We cannot confirm that Argentinian players underperform in shoouts due to our Hypothesis testing. We have very few data of normal penalties for Argentina in our dataset (11). We can study the performance of the Argentinian players in their teams to have more data."
   ]
  },
  {
   "cell_type": "code",
   "execution_count": 27,
   "metadata": {},
   "outputs": [
    {
     "name": "stdout",
     "output_type": "stream",
     "text": [
      "The number of shootout 1226\n",
      "The number of shootout 12003\n",
      "Male players: Shootut accuracy is 0.7177814029363785 and the normal one is 0.8052986753311672\n",
      "7.918475251080391e-11\n",
      "We reject the null hypothesis: There is a difference between the samples\n"
     ]
    }
   ],
   "source": [
    "df3 = df[df['gender'] == 0] # To see all the players\n",
    "\n",
    "df3_n = df3[df3['half']!=5]\n",
    "df3_s = df3[df3['half']==5]\n",
    "n_shootout = len(df3_s)\n",
    "print(\"The number of shootout \" +str(n_shootout))\n",
    "n_normal = len(df3_n)\n",
    "print(\"The number of shootout \" +str(n_normal))\n",
    "g_shootout = len(df3_s['gender'][df3_s['goal']==1])\n",
    "g_normal = len(df3_n['gender'][df3_n['goal']==1])\n",
    "acc_s = g_shootout/ n_shootout\n",
    "acc_n = g_normal/ n_normal\n",
    "\n",
    "print('Male players: Shootut accuracy is ' +str(acc_s) + ' and the normal one is ' + str(acc_n))\n",
    "fail_prob = 1-acc_s # We save this for later\n",
    "sample_1 = df3_s['goal'].tolist()\n",
    "sample_2 = df3_n['goal'].tolist()\n",
    "t_stat, p_value = stats.ttest_ind(sample_1, sample_2, equal_var= False)\n",
    "\n",
    "alpha = 0.05\n",
    "print(p_value)\n",
    "if p_value < alpha:\n",
    "    print('We reject the null hypothesis: There is a difference between the samples')\n",
    "else:\n",
    "    print(\"We do not reject: The two samples are not significantly different\")"
   ]
  },
  {
   "cell_type": "code",
   "execution_count": 28,
   "metadata": {},
   "outputs": [
    {
     "name": "stdout",
     "output_type": "stream",
     "text": [
      "25\n",
      "The number of shootout 36\n",
      "The number of normal 306\n",
      "23\n",
      "Argentina players: Shootut accuracy is 0.6388888888888888 and the normal one is 0.7973856209150327\n"
     ]
    }
   ],
   "source": [
    "df_arg_tot = pd.concat([df_arg, df2_arg])\n",
    "l_player_arg = df_arg_tot['player_id'].unique()\n",
    "print(len(l_player_arg))\n",
    "df3 =df.loc[df['player_id'].isin(l_player_arg)]\n",
    "#df3 = df[df['gender'] == 0] # To see all the players\n",
    "\n",
    "df3_n = df3[df3['half']!=5]\n",
    "df3_s = df3[df3['half']==5]\n",
    "n_shootout = len(df3_s)\n",
    "print(\"The number of shootout \" +str(n_shootout))\n",
    "n_normal = len(df3_n)\n",
    "print(\"The number of normal \" +str(n_normal))\n",
    "g_shootout = len(df3_s['gender'][df3_s['goal']==1])\n",
    "print(g_shootout)\n",
    "g_normal = len(df3_n['gender'][df3_n['goal']==1])\n",
    "acc_s = g_shootout/ n_shootout\n",
    "acc_n = g_normal/ n_normal\n",
    "\n",
    "\n",
    "print('Argentina players: Shootut accuracy is ' +str(acc_s) + ' and the normal one is ' + str(acc_n))\n"
   ]
  },
  {
   "cell_type": "code",
   "execution_count": 29,
   "metadata": {},
   "outputs": [
    {
     "data": {
      "text/html": [
       "<div>\n",
       "<style scoped>\n",
       "    .dataframe tbody tr th:only-of-type {\n",
       "        vertical-align: middle;\n",
       "    }\n",
       "\n",
       "    .dataframe tbody tr th {\n",
       "        vertical-align: top;\n",
       "    }\n",
       "\n",
       "    .dataframe thead th {\n",
       "        text-align: right;\n",
       "    }\n",
       "</style>\n",
       "<table border=\"1\" class=\"dataframe\">\n",
       "  <thead>\n",
       "    <tr style=\"text-align: right;\">\n",
       "      <th></th>\n",
       "      <th>T</th>\n",
       "      <th>dof</th>\n",
       "      <th>alternative</th>\n",
       "      <th>p-val</th>\n",
       "      <th>CI95%</th>\n",
       "      <th>cohen-d</th>\n",
       "      <th>BF10</th>\n",
       "      <th>power</th>\n",
       "    </tr>\n",
       "  </thead>\n",
       "  <tbody>\n",
       "    <tr>\n",
       "      <th>T-test</th>\n",
       "      <td>1.878179</td>\n",
       "      <td>40.820981</td>\n",
       "      <td>two-sided</td>\n",
       "      <td>0.067512</td>\n",
       "      <td>[-0.01, 0.33]</td>\n",
       "      <td>0.384599</td>\n",
       "      <td>0.931</td>\n",
       "      <td>0.585771</td>\n",
       "    </tr>\n",
       "  </tbody>\n",
       "</table>\n",
       "</div>"
      ],
      "text/plain": [
       "               T        dof alternative     p-val          CI95%   cohen-d  \\\n",
       "T-test  1.878179  40.820981   two-sided  0.067512  [-0.01, 0.33]  0.384599   \n",
       "\n",
       "         BF10     power  \n",
       "T-test  0.931  0.585771  "
      ]
     },
     "execution_count": 29,
     "metadata": {},
     "output_type": "execute_result"
    }
   ],
   "source": [
    "sample_1 = df3_n['goal']\n",
    "sample_2 = df3_s['goal']\n",
    "pg.ttest(x=sample_1, y=sample_2, alternative='two-sided', correction=True)"
   ]
  },
  {
   "cell_type": "code",
   "execution_count": 30,
   "metadata": {},
   "outputs": [
    {
     "name": "stdout",
     "output_type": "stream",
     "text": [
      "0.06751243866907324\n",
      "We do not reject: The two samples are not significantly different\n"
     ]
    }
   ],
   "source": [
    "sample_1 = df3_s['goal'].tolist()\n",
    "sample_2 = df3_n['goal'].tolist()\n",
    "t_stat, p_value = stats.ttest_ind(sample_1, sample_2, equal_var= False)\n",
    "\n",
    "alpha = 0.05\n",
    "print(p_value)\n",
    "if p_value < alpha:\n",
    "    print('We reject the null hypothesis: There is a difference between the samples')\n",
    "else:\n",
    "    print(\"We do not reject: The two samples are not significantly different\")"
   ]
  },
  {
   "cell_type": "markdown",
   "metadata": {},
   "source": [
    "From a statistical point of view, we cannot state the difference of conversion between with alpha =0.05 (standard one used). But the scenario changes if we take alpha=0.1 (depending how much impactful we consider the error types I and II). One possibility could be to manually add the data previous to 2000 (for example Worl Cup 1990: 3/5 vs Yugoslavia and 4/4 vs Italy; France 1998: 4/5 vs England; Qataer 2022: 4/5 vs Netherlands, 4/4 vs France )"
   ]
  },
  {
   "cell_type": "code",
   "execution_count": 31,
   "metadata": {},
   "outputs": [
    {
     "name": "stdout",
     "output_type": "stream",
     "text": [
      "0.68\n",
      "0.18384305453579997\n",
      "We do not reject: The two samples are not significantly different\n",
      "0.711864406779661\n"
     ]
    }
   ],
   "source": [
    "new_acc_s = (g_shootout+11)/ (n_shootout+14)\n",
    "print(new_acc_s)\n",
    "n_list = [1]*19 + [0]*4\n",
    "\n",
    "sample_1 = df3_s['goal'].tolist() + n_list\n",
    "sample_2 = df3_n['goal'].tolist()\n",
    "t_stat, p_value = stats.ttest_ind(sample_1, sample_2, equal_var= False)\n",
    "\n",
    "alpha = 0.05\n",
    "print(p_value)\n",
    "if p_value < alpha:\n",
    "    print('We reject the null hypothesis: There is a difference between the samples')\n",
    "else:\n",
    "    print(\"We do not reject: The two samples are not significantly different\")\n",
    "\n",
    "n_cr = (23+19)/(36+23)\n",
    "print(n_cr)"
   ]
  },
  {
   "cell_type": "code",
   "execution_count": 32,
   "metadata": {},
   "outputs": [
    {
     "data": {
      "text/html": [
       "<div>\n",
       "<style scoped>\n",
       "    .dataframe tbody tr th:only-of-type {\n",
       "        vertical-align: middle;\n",
       "    }\n",
       "\n",
       "    .dataframe tbody tr th {\n",
       "        vertical-align: top;\n",
       "    }\n",
       "\n",
       "    .dataframe thead th {\n",
       "        text-align: right;\n",
       "    }\n",
       "</style>\n",
       "<table border=\"1\" class=\"dataframe\">\n",
       "  <thead>\n",
       "    <tr style=\"text-align: right;\">\n",
       "      <th></th>\n",
       "      <th>T</th>\n",
       "      <th>dof</th>\n",
       "      <th>alternative</th>\n",
       "      <th>p-val</th>\n",
       "      <th>CI95%</th>\n",
       "      <th>cohen-d</th>\n",
       "      <th>BF10</th>\n",
       "      <th>power</th>\n",
       "    </tr>\n",
       "  </thead>\n",
       "  <tbody>\n",
       "    <tr>\n",
       "      <th>T-test</th>\n",
       "      <td>-1.341165</td>\n",
       "      <td>76.350768</td>\n",
       "      <td>two-sided</td>\n",
       "      <td>0.183843</td>\n",
       "      <td>[-0.21, 0.04]</td>\n",
       "      <td>0.207706</td>\n",
       "      <td>0.358</td>\n",
       "      <td>0.307788</td>\n",
       "    </tr>\n",
       "  </tbody>\n",
       "</table>\n",
       "</div>"
      ],
      "text/plain": [
       "               T        dof alternative     p-val          CI95%   cohen-d  \\\n",
       "T-test -1.341165  76.350768   two-sided  0.183843  [-0.21, 0.04]  0.207706   \n",
       "\n",
       "         BF10     power  \n",
       "T-test  0.358  0.307788  "
      ]
     },
     "execution_count": 32,
     "metadata": {},
     "output_type": "execute_result"
    }
   ],
   "source": [
    "pg.ttest(x=sample_1, y=sample_2, alternative='two-sided', correction=True)"
   ]
  },
  {
   "cell_type": "markdown",
   "metadata": {},
   "source": [
    "Conclusion: to determine which are the best Argentinian penalty shooters we will consider all the penalties (and not only shoout ones). However, we know that with the full male data that there is a difference between the conversion rate between shootout and normal penalties. We are considering all the penalties the same but in a more detailed version I would weight them.\n",
    "\n",
    "The next step is try to understand what are the key factors to win a shoout. More precisely, we are going to study the following questions:\n",
    "- Is it important to be the firt team to shoot or the second?\n",
    "- Some years ago, there was the policy of leaving the best players to shoot at the end. Now, it is the other way around and best players shoot the first. Which policy could work best?\n",
    "\n",
    "(Note this is a analysis for male football. A similar one could be done for female with more data)"
   ]
  },
  {
   "cell_type": "markdown",
   "metadata": {},
   "source": []
  },
  {
   "cell_type": "code",
   "execution_count": 33,
   "metadata": {},
   "outputs": [
    {
     "data": {
      "text/plain": [
       "gender\n",
       "0    1226\n",
       "1     163\n",
       "Name: count, dtype: int64"
      ]
     },
     "execution_count": 33,
     "metadata": {},
     "output_type": "execute_result"
    }
   ],
   "source": [
    "df2 = df[df['half']==5]\n",
    "df2['gender'].value_counts()"
   ]
  },
  {
   "cell_type": "code",
   "execution_count": 34,
   "metadata": {},
   "outputs": [],
   "source": [
    "df2 = df2[df2['gender']==0]\n",
    "l_match = df2['match_id'].unique()\n",
    "df2['score_shootout']= 0\n",
    "df2 = df2.reset_index(drop=True)\n",
    "\n",
    "inf_match=[]\n",
    "# 0 for second order and 1 first order\n",
    "for m in l_match:\n",
    "    aux = df2[df2['match_id'] == m]\n",
    "    first_team_miss = -1\n",
    "    first_miss = -1\n",
    "    team_win = -1\n",
    "    diff = 0\n",
    "    ind = 0\n",
    "    for i in range(len(aux)):\n",
    "        ind = aux.index[aux['shootout_order']== (i+1)].tolist()[0]\n",
    "        res = aux.at[ind, 'goal']\n",
    "        if first_team_miss == -1 and res == 0:\n",
    "            first_miss = i+1\n",
    "            first_team_miss = (first_miss)%2\n",
    "            \n",
    "        df2.at[ind, 'score_shootout'] = diff\n",
    "        if i%2 == 0:\n",
    "            diff += res\n",
    "        else:\n",
    "            diff -= res\n",
    "    score = df2.at[ind, 'score_shootout']\n",
    "    if score >0:\n",
    "        team_win = 1\n",
    "    else:\n",
    "        team_win = 0\n",
    "    inf_match.append({'match': m, 'team_win': team_win, 'score': diff, 'size': len(aux), \n",
    "                      'first_miss': first_miss, 'first_team_miss': first_team_miss\n",
    "                      })\n",
    "\n",
    "        \n"
   ]
  },
  {
   "cell_type": "markdown",
   "metadata": {},
   "source": [
    "Let us try to understand better the new features."
   ]
  },
  {
   "cell_type": "code",
   "execution_count": 35,
   "metadata": {},
   "outputs": [
    {
     "data": {
      "text/html": [
       "<div>\n",
       "<style scoped>\n",
       "    .dataframe tbody tr th:only-of-type {\n",
       "        vertical-align: middle;\n",
       "    }\n",
       "\n",
       "    .dataframe tbody tr th {\n",
       "        vertical-align: top;\n",
       "    }\n",
       "\n",
       "    .dataframe thead th {\n",
       "        text-align: right;\n",
       "    }\n",
       "</style>\n",
       "<table border=\"1\" class=\"dataframe\">\n",
       "  <thead>\n",
       "    <tr style=\"text-align: right;\">\n",
       "      <th></th>\n",
       "      <th>match</th>\n",
       "      <th>team_win</th>\n",
       "      <th>score</th>\n",
       "      <th>size</th>\n",
       "      <th>first_miss</th>\n",
       "      <th>first_team_miss</th>\n",
       "    </tr>\n",
       "  </thead>\n",
       "  <tbody>\n",
       "    <tr>\n",
       "      <th>count</th>\n",
       "      <td>120.000000</td>\n",
       "      <td>120.000000</td>\n",
       "      <td>120.000000</td>\n",
       "      <td>120.000000</td>\n",
       "      <td>120.000000</td>\n",
       "      <td>120.000000</td>\n",
       "    </tr>\n",
       "    <tr>\n",
       "      <th>mean</th>\n",
       "      <td>6147.925000</td>\n",
       "      <td>0.566667</td>\n",
       "      <td>0.450000</td>\n",
       "      <td>10.216667</td>\n",
       "      <td>4.516667</td>\n",
       "      <td>0.566667</td>\n",
       "    </tr>\n",
       "    <tr>\n",
       "      <th>std</th>\n",
       "      <td>3539.994529</td>\n",
       "      <td>0.497613</td>\n",
       "      <td>1.613233</td>\n",
       "      <td>3.308211</td>\n",
       "      <td>3.906434</td>\n",
       "      <td>0.497613</td>\n",
       "    </tr>\n",
       "    <tr>\n",
       "      <th>min</th>\n",
       "      <td>42.000000</td>\n",
       "      <td>0.000000</td>\n",
       "      <td>-3.000000</td>\n",
       "      <td>6.000000</td>\n",
       "      <td>1.000000</td>\n",
       "      <td>0.000000</td>\n",
       "    </tr>\n",
       "    <tr>\n",
       "      <th>25%</th>\n",
       "      <td>3074.500000</td>\n",
       "      <td>0.000000</td>\n",
       "      <td>-1.000000</td>\n",
       "      <td>9.000000</td>\n",
       "      <td>2.000000</td>\n",
       "      <td>0.000000</td>\n",
       "    </tr>\n",
       "    <tr>\n",
       "      <th>50%</th>\n",
       "      <td>6329.500000</td>\n",
       "      <td>1.000000</td>\n",
       "      <td>1.000000</td>\n",
       "      <td>9.500000</td>\n",
       "      <td>3.000000</td>\n",
       "      <td>1.000000</td>\n",
       "    </tr>\n",
       "    <tr>\n",
       "      <th>75%</th>\n",
       "      <td>8969.000000</td>\n",
       "      <td>1.000000</td>\n",
       "      <td>2.000000</td>\n",
       "      <td>10.000000</td>\n",
       "      <td>6.000000</td>\n",
       "      <td>1.000000</td>\n",
       "    </tr>\n",
       "    <tr>\n",
       "      <th>max</th>\n",
       "      <td>12009.000000</td>\n",
       "      <td>1.000000</td>\n",
       "      <td>3.000000</td>\n",
       "      <td>26.000000</td>\n",
       "      <td>23.000000</td>\n",
       "      <td>1.000000</td>\n",
       "    </tr>\n",
       "  </tbody>\n",
       "</table>\n",
       "</div>"
      ],
      "text/plain": [
       "              match    team_win       score        size  first_miss  \\\n",
       "count    120.000000  120.000000  120.000000  120.000000  120.000000   \n",
       "mean    6147.925000    0.566667    0.450000   10.216667    4.516667   \n",
       "std     3539.994529    0.497613    1.613233    3.308211    3.906434   \n",
       "min       42.000000    0.000000   -3.000000    6.000000    1.000000   \n",
       "25%     3074.500000    0.000000   -1.000000    9.000000    2.000000   \n",
       "50%     6329.500000    1.000000    1.000000    9.500000    3.000000   \n",
       "75%     8969.000000    1.000000    2.000000   10.000000    6.000000   \n",
       "max    12009.000000    1.000000    3.000000   26.000000   23.000000   \n",
       "\n",
       "       first_team_miss  \n",
       "count       120.000000  \n",
       "mean          0.566667  \n",
       "std           0.497613  \n",
       "min           0.000000  \n",
       "25%           0.000000  \n",
       "50%           1.000000  \n",
       "75%           1.000000  \n",
       "max           1.000000  "
      ]
     },
     "execution_count": 35,
     "metadata": {},
     "output_type": "execute_result"
    }
   ],
   "source": [
    "df_match = pd.DataFrame(inf_match)\n",
    "df_match.describe()\n",
    "# df_match['team_win'].mean() 0.56666"
   ]
  },
  {
   "cell_type": "markdown",
   "metadata": {},
   "source": [
    "Since we have a number bigger than 0.5, we can think that being first could be better."
   ]
  },
  {
   "cell_type": "code",
   "execution_count": 36,
   "metadata": {},
   "outputs": [
    {
     "name": "stdout",
     "output_type": "stream",
     "text": [
      "0.30261282982246446\n",
      "We do not reject: The two samples are not significantly different\n"
     ]
    }
   ],
   "source": [
    "l = len(df_match) //2\n",
    "sample_1 = df_match['team_win'].tolist()\n",
    "sample_2 = [1]*l + [0]*l\n",
    "t_stat, p_value = stats.ttest_ind(sample_1, sample_2, equal_var= False)\n",
    "\n",
    "alpha = 0.05\n",
    "print(p_value)\n",
    "if p_value < alpha:\n",
    "    print('We reject the null hypothesis: There is a difference between the samples')\n",
    "else:\n",
    "    print(\"We do not reject: The two samples are not significantly different\")"
   ]
  },
  {
   "cell_type": "markdown",
   "metadata": {},
   "source": [
    "There is not enough statistical proof to prove that the distribution of winnings being first is different from a random one. However, from a historical point of view I would recommend to be the <b> first </b> to shoot."
   ]
  },
  {
   "cell_type": "code",
   "execution_count": 37,
   "metadata": {},
   "outputs": [
    {
     "data": {
      "text/html": [
       "<div>\n",
       "<style scoped>\n",
       "    .dataframe tbody tr th:only-of-type {\n",
       "        vertical-align: middle;\n",
       "    }\n",
       "\n",
       "    .dataframe tbody tr th {\n",
       "        vertical-align: top;\n",
       "    }\n",
       "\n",
       "    .dataframe thead th {\n",
       "        text-align: right;\n",
       "    }\n",
       "</style>\n",
       "<table border=\"1\" class=\"dataframe\">\n",
       "  <thead>\n",
       "    <tr style=\"text-align: right;\">\n",
       "      <th></th>\n",
       "      <th>match</th>\n",
       "      <th>team_win</th>\n",
       "      <th>score</th>\n",
       "      <th>size</th>\n",
       "      <th>first_miss</th>\n",
       "      <th>first_team_miss</th>\n",
       "      <th>duration</th>\n",
       "    </tr>\n",
       "  </thead>\n",
       "  <tbody>\n",
       "    <tr>\n",
       "      <th>0</th>\n",
       "      <td>3027</td>\n",
       "      <td>0</td>\n",
       "      <td>-1</td>\n",
       "      <td>10</td>\n",
       "      <td>3</td>\n",
       "      <td>1</td>\n",
       "      <td>(9, 10]</td>\n",
       "    </tr>\n",
       "    <tr>\n",
       "      <th>1</th>\n",
       "      <td>4282</td>\n",
       "      <td>0</td>\n",
       "      <td>-1</td>\n",
       "      <td>10</td>\n",
       "      <td>3</td>\n",
       "      <td>1</td>\n",
       "      <td>(9, 10]</td>\n",
       "    </tr>\n",
       "    <tr>\n",
       "      <th>2</th>\n",
       "      <td>10632</td>\n",
       "      <td>1</td>\n",
       "      <td>2</td>\n",
       "      <td>9</td>\n",
       "      <td>8</td>\n",
       "      <td>0</td>\n",
       "      <td>(0, 9]</td>\n",
       "    </tr>\n",
       "    <tr>\n",
       "      <th>3</th>\n",
       "      <td>5232</td>\n",
       "      <td>1</td>\n",
       "      <td>2</td>\n",
       "      <td>9</td>\n",
       "      <td>8</td>\n",
       "      <td>0</td>\n",
       "      <td>(0, 9]</td>\n",
       "    </tr>\n",
       "    <tr>\n",
       "      <th>4</th>\n",
       "      <td>1005</td>\n",
       "      <td>0</td>\n",
       "      <td>-2</td>\n",
       "      <td>8</td>\n",
       "      <td>1</td>\n",
       "      <td>1</td>\n",
       "      <td>(0, 9]</td>\n",
       "    </tr>\n",
       "    <tr>\n",
       "      <th>...</th>\n",
       "      <td>...</td>\n",
       "      <td>...</td>\n",
       "      <td>...</td>\n",
       "      <td>...</td>\n",
       "      <td>...</td>\n",
       "      <td>...</td>\n",
       "      <td>...</td>\n",
       "    </tr>\n",
       "    <tr>\n",
       "      <th>115</th>\n",
       "      <td>2266</td>\n",
       "      <td>0</td>\n",
       "      <td>-1</td>\n",
       "      <td>10</td>\n",
       "      <td>2</td>\n",
       "      <td>0</td>\n",
       "      <td>(9, 10]</td>\n",
       "    </tr>\n",
       "    <tr>\n",
       "      <th>116</th>\n",
       "      <td>4944</td>\n",
       "      <td>0</td>\n",
       "      <td>-1</td>\n",
       "      <td>12</td>\n",
       "      <td>1</td>\n",
       "      <td>1</td>\n",
       "      <td>(10, 100]</td>\n",
       "    </tr>\n",
       "    <tr>\n",
       "      <th>117</th>\n",
       "      <td>7101</td>\n",
       "      <td>1</td>\n",
       "      <td>2</td>\n",
       "      <td>8</td>\n",
       "      <td>2</td>\n",
       "      <td>0</td>\n",
       "      <td>(0, 9]</td>\n",
       "    </tr>\n",
       "    <tr>\n",
       "      <th>118</th>\n",
       "      <td>3207</td>\n",
       "      <td>0</td>\n",
       "      <td>-2</td>\n",
       "      <td>8</td>\n",
       "      <td>1</td>\n",
       "      <td>1</td>\n",
       "      <td>(0, 9]</td>\n",
       "    </tr>\n",
       "    <tr>\n",
       "      <th>119</th>\n",
       "      <td>770</td>\n",
       "      <td>1</td>\n",
       "      <td>3</td>\n",
       "      <td>7</td>\n",
       "      <td>2</td>\n",
       "      <td>0</td>\n",
       "      <td>(0, 9]</td>\n",
       "    </tr>\n",
       "  </tbody>\n",
       "</table>\n",
       "<p>120 rows × 7 columns</p>\n",
       "</div>"
      ],
      "text/plain": [
       "     match  team_win  score  size  first_miss  first_team_miss   duration\n",
       "0     3027         0     -1    10           3                1    (9, 10]\n",
       "1     4282         0     -1    10           3                1    (9, 10]\n",
       "2    10632         1      2     9           8                0     (0, 9]\n",
       "3     5232         1      2     9           8                0     (0, 9]\n",
       "4     1005         0     -2     8           1                1     (0, 9]\n",
       "..     ...       ...    ...   ...         ...              ...        ...\n",
       "115   2266         0     -1    10           2                0    (9, 10]\n",
       "116   4944         0     -1    12           1                1  (10, 100]\n",
       "117   7101         1      2     8           2                0     (0, 9]\n",
       "118   3207         0     -2     8           1                1     (0, 9]\n",
       "119    770         1      3     7           2                0     (0, 9]\n",
       "\n",
       "[120 rows x 7 columns]"
      ]
     },
     "execution_count": 37,
     "metadata": {},
     "output_type": "execute_result"
    }
   ],
   "source": [
    "bins=[0,9,10,100]\n",
    "#labels=[-1, 0, 1]\n",
    "df_match['duration']=pd.cut(df_match['size'], bins= bins)#, labels = labels)\n",
    "df_match"
   ]
  },
  {
   "cell_type": "code",
   "execution_count": 38,
   "metadata": {},
   "outputs": [
    {
     "data": {
      "image/png": "[encoded data removed]",
      "text/plain": [
       "<Figure size 640x480 with 1 Axes>"
      ]
     },
     "metadata": {},
     "output_type": "display_data"
    }
   ],
   "source": [
    "df_match['size'][df_match['size'] <= 10].plot(kind='hist')\n",
    "plt.show()"
   ]
  },
  {
   "cell_type": "code",
   "execution_count": 39,
   "metadata": {},
   "outputs": [
    {
     "data": {
      "image/png": "[encoded data removed]",
      "text/plain": [
       "<Figure size 1440x810 with 1 Axes>"
      ]
     },
     "metadata": {},
     "output_type": "display_data"
    }
   ],
   "source": [
    "x_var = 'size'\n",
    "groupby_var = 'team_win'\n",
    "df_agg = df_match.loc[:, [x_var, groupby_var]].groupby(groupby_var)\n",
    "vals = [df[x_var].values.tolist() for i, df in df_agg]\n",
    "\n",
    "plt.figure(figsize=(16,9), dpi = 90)\n",
    "colors = [plt.cm.Spectral(i/float(len(vals)-1)) for i in range(len(vals))]\n",
    "n, bins, patches = plt.hist(vals, df_match[x_var].unique().__len__(), stacked = True, density = False) #color = colors[:len(vals)],\n",
    "\n",
    "plt.legend({group: col for group, col in zip(np.unique(df_match[groupby_var]).tolist(), colors[:len(vals)])})\n",
    "plt.title(f\"Stacked histogram of size colored by winning team (to improve adding %)\")\n",
    "plt.xlabel(x_var)\n",
    "plt.ylabel(\"Frequency\")\n",
    "labels= np.unique(df_match[x_var]).tolist()\n",
    "labels += [' ']\n",
    "plt.xticks(ticks=bins, labels = labels)\n",
    "plt.show()"
   ]
  },
  {
   "cell_type": "code",
   "execution_count": 40,
   "metadata": {},
   "outputs": [
    {
     "data": {
      "image/png": "[encoded data removed]",
      "text/plain": [
       "<Figure size 1440x810 with 1 Axes>"
      ]
     },
     "metadata": {},
     "output_type": "display_data"
    }
   ],
   "source": [
    "x_var = 'first_miss'\n",
    "groupby_var = 'team_win'\n",
    "df_agg = df_match.loc[:, [x_var, groupby_var]].groupby(groupby_var)\n",
    "vals = [df[x_var].values.tolist() for i, df in df_agg]\n",
    "\n",
    "plt.figure(figsize=(16,9), dpi = 90)\n",
    "colors = [plt.cm.Spectral(i/float(len(vals)-1)) for i in range(len(vals))]\n",
    "n, bins, patches = plt.hist(vals, df_match[x_var].unique().__len__(), stacked = True, density = False) #color = colors[:len(vals)],\n",
    "\n",
    "plt.legend({group: col for group, col in zip(np.unique(df_match[groupby_var]).tolist(), colors[:len(vals)])})\n",
    "plt.title(f\"Stacked histogram of size colored by winning team (to improve adding %)\")\n",
    "plt.xlabel(x_var)\n",
    "plt.ylabel(\"Frequency\")\n",
    "labels= np.unique(df_match[x_var]).tolist()\n",
    "labels += [' ']\n",
    "plt.xticks(ticks=bins, labels = labels)\n",
    "plt.show()"
   ]
  },
  {
   "cell_type": "markdown",
   "metadata": {},
   "source": [
    "If we assume that failing a penalty follows a Bernoulli distribution, the previous plot should be similar to a geometric distribution."
   ]
  },
  {
   "cell_type": "code",
   "execution_count": 41,
   "metadata": {},
   "outputs": [
    {
     "data": {
      "text/plain": [
       "[]"
      ]
     },
     "execution_count": 41,
     "metadata": {},
     "output_type": "execute_result"
    },
    {
     "data": {
      "image/png": "[encoded data removed]",
      "text/plain": [
       "<Figure size 640x480 with 1 Axes>"
      ]
     },
     "metadata": {},
     "output_type": "display_data"
    }
   ],
   "source": [
    "k_values = np.arange(1, 25)\n",
    "pmf_values = geom.pmf(k_values, fail_prob)\n",
    "\n",
    "plt.bar(k_values, pmf_values)\n",
    "plt.plot()"
   ]
  },
  {
   "cell_type": "code",
   "execution_count": 42,
   "metadata": {},
   "outputs": [
    {
     "name": "stdout",
     "output_type": "stream",
     "text": [
      "120\n",
      "We know that the probability of winning shooting first is 0.5666666666666667\n",
      "The conditional probability of winning shooting first when we are the first team to miss is 0.29411764705882354\n",
      "The conditional probability of winning shooting first when the other team is the first to miss is 0.9230769230769231\n",
      "The conditional probability of winning shooting first when we fail the first shoot is 0.391304347826087\n",
      "The conditional probability of winning shooting first when we score the first shoot is 0.6082474226804123\n"
     ]
    }
   ],
   "source": [
    "condm1 = (df_match['first_team_miss'] == 1)\n",
    "condm0 = (df_match['first_team_miss'] == 0)\n",
    "condw1 = (df_match['team_win'] == 1)\n",
    "condw0 = (df_match['team_win'] == 0)\n",
    "cond = (df_match['first_miss'] == 1)\n",
    "notcond = (df_match['first_miss'] != 1)\n",
    "\n",
    "\n",
    "N = len(df_match)\n",
    "print(N)\n",
    "n_w1m1 = len(df_match[condw1 & condm1 ])\n",
    "n_w1m0 = len(df_match[condw1 & condm0 ])\n",
    "n_w0m0 = len(df_match[condw0 & condm0 ])\n",
    "n_w0m1 = len(df_match[condw0 & condm1 ])\n",
    "\n",
    "n_w1f1 = len(df_match[condw1 & cond ])\n",
    "n_w1g1 = len(df_match[condw1 & notcond])\n",
    "n_w0f1 = len(df_match[condw0 & cond ])\n",
    "n_w0g1 = len(df_match[condw0 & notcond])\n",
    "\n",
    "\n",
    "pw1 = (n_w1m1+n_w1m0)/N\n",
    "pw0 = (n_w0m1+n_w0m0)/N\n",
    "pw1_condm1 = (n_w1m1)/(n_w1m1+n_w0m1)\n",
    "pw0_condm1 = (n_w0m1)/(n_w1m1+n_w0m1)\n",
    "pw1_condm0 = (n_w1m0)/(n_w1m0+n_w0m0)\n",
    "pw0_condm0 = (n_w0m0)/(n_w1m0+n_w0m0)\n",
    "\n",
    "\n",
    "pw1_g1 = (n_w1g1)/(n_w1g1+n_w0g1)\n",
    "pw1_f1 = (n_w1f1)/(n_w1f1+n_w0f1)\n",
    "print('We know that the probability of winning shooting first is '+ str(pw1))\n",
    "\n",
    "print('The conditional probability of winning shooting first when we are the first team to miss is '+ str(pw1_condm1))\n",
    "print('The conditional probability of winning shooting first when the other team is the first to miss is '+ str(pw1_condm0))\n",
    "print('The conditional probability of winning shooting first when we fail the first shoot is '+ str(pw1_f1))\n",
    "print('The conditional probability of winning shooting first when we score the first shoot is '+ str(pw1_g1))"
   ]
  },
  {
   "cell_type": "code",
   "execution_count": 43,
   "metadata": {},
   "outputs": [
    {
     "data": {
      "image/png": "[encoded data removed]",
      "text/plain": [
       "<Figure size 640x480 with 1 Axes>"
      ]
     },
     "metadata": {},
     "output_type": "display_data"
    }
   ],
   "source": [
    "prob_scoring=[]\n",
    "for i in range(13):\n",
    "    j = i+1\n",
    "    aux = df2[df2['shootout_order']== j]\n",
    "    prob_scoring.append(aux['goal'].mean())\n",
    "r = [1+i for i in range(len(prob_scoring))]\n",
    "\n",
    "plt.stem(r, prob_scoring)\n",
    "plt.scatter(r, prob_scoring)\n",
    "plt.show()"
   ]
  },
  {
   "cell_type": "code",
   "execution_count": 44,
   "metadata": {},
   "outputs": [
    {
     "data": {
      "image/png": "[encoded data removed]",
      "text/plain": [
       "<Figure size 640x480 with 1 Axes>"
      ]
     },
     "metadata": {},
     "output_type": "display_data"
    }
   ],
   "source": [
    "N = len(df_match)\n",
    "c1 = len(df_match[df_match['size']<= 8])\n",
    "c3 = len(df_match[df_match['size'] > 10])\n",
    "c2 = N-c1-c3\n",
    "\n",
    "p1 = c1*100./N\n",
    "p2 = c2*100./N\n",
    "p3 = c2*100./N\n",
    "\n",
    "plt.pie([p1,p2,p3], labels=['-9', '9-10', '+10'], autopct='%1.1f%%')\n",
    "plt.show()"
   ]
  },
  {
   "cell_type": "code",
   "execution_count": 45,
   "metadata": {},
   "outputs": [
    {
     "data": {
      "text/plain": [
       "[2012, 887, 2475, 3432]"
      ]
     },
     "execution_count": 45,
     "metadata": {},
     "output_type": "execute_result"
    }
   ],
   "source": [
    "df_arg_tot = pd.concat([df_arg, df2_arg])\n",
    "l_player_arg = df_arg_tot['player_id'].unique().tolist() \n",
    "l_player_arg += [887] # We add Paulo Dybala (887)\n",
    "\n",
    "l_player_arg = [887, 2012, 2475, 3432] #To comment if needed\n",
    "\n",
    "df3 =df.loc[df['player_id'].isin(l_player_arg)]\n",
    "\n",
    "top= get_top_scorer(df3, 5, param1='max_streak')\n",
    "[d['name'] for d in top]"
   ]
  },
  {
   "cell_type": "code",
   "execution_count": 46,
   "metadata": {},
   "outputs": [
    {
     "data": {
      "text/plain": [
       "[2475, 3432, 887, 2012]"
      ]
     },
     "execution_count": 46,
     "metadata": {},
     "output_type": "execute_result"
    }
   ],
   "source": [
    "top= get_top_scorer(df3, 10, param1='active', param2='current_streak')\n",
    "[d['name'] for d in top]"
   ]
  },
  {
   "cell_type": "code",
   "execution_count": 47,
   "metadata": {},
   "outputs": [
    {
     "data": {
      "text/plain": [
       "[2475, 3432, 887, 2012]"
      ]
     },
     "execution_count": 47,
     "metadata": {},
     "output_type": "execute_result"
    }
   ],
   "source": [
    "top= get_top_scorer(df3, 10, param1='active', param2='current_streak')\n",
    "[d['name'] for d in top]"
   ]
  },
  {
   "cell_type": "code",
   "execution_count": 48,
   "metadata": {},
   "outputs": [
    {
     "name": "stdout",
     "output_type": "stream",
     "text": [
      "[3432, 887, 2012, 2475]\n",
      "[1.0, 0.8846153846153846, 0.7981651376146789, 0.6875]\n",
      "[887, 2012, 2475, 3432]\n",
      "[0.8518518518518519, 0.7909090909090909, 0.6470588235294118, 0.5]\n",
      "[887, 2012, 2475, 3432]\n",
      "[14, 8, 4, 1]\n",
      "[2012, 887, 2475, 3432]\n",
      "[16, 14, 4, 1]\n",
      "[2012, 887, 2475, 3432]\n",
      "[87, 23, 11, 1]\n"
     ]
    }
   ],
   "source": [
    "allowed_values = ['accuracy', 'miss_np_accuracy', 'current_streak', 'max_streak', 'number_goals']\n",
    "\n",
    "for crit in allowed_values:\n",
    "    top= get_top_scorer(df3, 10, param1=crit)\n",
    "    print([d['name'] for d in top])\n",
    "    print([d[crit] for d in top])"
   ]
  },
  {
   "cell_type": "markdown",
   "metadata": {},
   "source": [
    "#### Hypothesis testing (Bernoulli distribution)\n",
    "For small number of samples $N$ we use the binomial distribution.\n",
    "For larger $N$, we use the normal distribution.\n",
    "\n",
    "Our mean estimator $\\overline{X}=\\frac{1}{N}\\sum_{i=1}^{N} X_i$ is a sum of $N$ draws from the same distribution. Under the null hypothesis (that the Bernoulli parameter $p=p_0$), the expected value of $E[\\overline{X}]= p_0$. If the N draws are independent, the variance of $\\overline{X}$ is simply the sum of the variances of the $X_i$ draws (and the scalar goes to a square): $var(\\overline{X})=\\frac{1}{N^2} N Var[X_i]= \\frac{1}{N}p_0 (1-p_0)$. \n",
    "\n",
    "The central limit theorem tells us that for large $N$, $Z=\\dfrac{\\overline{X}-E[\\overline{X}]}{\\sqrt{Var[\\overline{X}]}}=\\sqrt{N}\\dfrac{\\overline{X} - p_0}{\\sqrt{p_0 (1-p_0)}}$ converges in distribution to a standard normal distribution $\\mathcal{N}(0,1)$.\n"
   ]
  },
  {
   "cell_type": "code",
   "execution_count": 49,
   "metadata": {},
   "outputs": [],
   "source": [
    "#If we want to do the statistical hypothesis with our own code\n",
    "\n",
    "def right_hypothesis_bernoulli(X_mean, N, p, alpha):\n",
    "    sigma = math.sqrt(p*(1-p))\n",
    "    return right_hypothesis(X_mean, N, p, sigma, alpha)\n",
    "\n",
    "def right_hypothesis(X_mean, N, mu, sigma, alpha):\n",
    "    percentile = scipy.stats.norm.ppf(1-alpha)\n",
    "    print(percentile)\n",
    "    value = math.sqrt(N)*(X_mean- mu)/(sigma)\n",
    "    print(value)\n",
    "    return value>percentile #1 we reject the null hypothesis. The error Type I of rejecting wrong the null hypothesis is alpha (small)"
   ]
  },
  {
   "cell_type": "code",
   "execution_count": 50,
   "metadata": {},
   "outputs": [
    {
     "name": "stdout",
     "output_type": "stream",
     "text": [
      "0.5666666666666667\n",
      "120\n",
      "1.6448536269514722\n",
      "1.4605934866804426\n"
     ]
    },
    {
     "data": {
      "text/plain": [
       "False"
      ]
     },
     "execution_count": 50,
     "metadata": {},
     "output_type": "execute_result"
    }
   ],
   "source": [
    "X_mean = df_match['team_win'].mean()\n",
    "print(X_mean)\n",
    "N = len(df_match['team_win'])\n",
    "print(N)\n",
    "alpha = 0.05\n",
    "\n",
    "right_hypothesis_bernoulli(X_mean, N, 0.5, alpha)"
   ]
  }
 ],
 "metadata": {
  "kernelspec": {
   "display_name": "Python 3",
   "language": "python",
   "name": "python3"
  },
  "language_info": {
   "codemirror_mode": {
    "name": "ipython",
    "version": 3
   },
   "file_extension": ".py",
   "mimetype": "text/x-python",
   "name": "python",
   "nbconvert_exporter": "python",
   "pygments_lexer": "ipython3",
   "version": "3.12.2"
  }
 },
 "nbformat": 4,
 "nbformat_minor": 2
}
